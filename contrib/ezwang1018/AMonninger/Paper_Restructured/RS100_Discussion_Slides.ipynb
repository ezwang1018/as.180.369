{
 "cells": [
  {
   "cell_type": "markdown",
   "id": "547110e7",
   "metadata": {
    "editable": true,
    "slideshow": {
     "controls": false,
     "height": "100%",
     "progress": true,
     "scroll": true,
     "slide_type": "slide",
     "width": "100%"
    },
    "tags": []
   },
   "source": [
    "<h1 style=\"text-align: center;\"><a href=\"https://dedwar65.github.io/beyond-the-streetlight\">New Business Formation and Political Affiliation of US President</h1>\n",
    "<h3 style=\"text-align: center;\">by Eric Wang</h3>\n",
    "\n",
    "&nbsp;\n",
    "\n",
    "\n",
    "<h5 style=\"text-align: center;\"><strong>Class of 2025</strong></h5>\n",
    "<h5 style=\"text-align: center;\">Johns Hopkins University </h5>\n",
    "\n",
    "&nbsp;\n",
    "<h4 style=\"text-align: center;\">AS.180.369 </h4>\n",
    "<h4 style=\"text-align: center;\">November 18, 2024</h4>\n",
    "\n"
   ]
  },
  {
   "cell_type": "markdown",
   "id": "ca08e042-2b99-444b-bf43-91f23ecf8280",
   "metadata": {
    "editable": true,
    "slideshow": {
     "slide_type": "slide"
    },
    "tags": []
   },
   "source": []
  },
  {
   "cell_type": "markdown",
   "id": "db27d7c0-bdb2-45be-a1bb-f2acbce7a4ce",
   "metadata": {
    "slideshow": {
     "slide_type": "fragment"
    },
    "tags": []
   },
   "source": [
    "- Past, Present, and Future"
   ]
  },
  {
   "cell_type": "markdown",
   "id": "d5ecaa78-1b54-49e0-aa57-63b80c18f66f",
   "metadata": {
    "editable": true,
    "slideshow": {
     "slide_type": "fragment"
    },
    "tags": []
   },
   "source": [
    "- For doing a vitally important job as well as humanly possible"
   ]
  },
  {
   "cell_type": "markdown",
   "id": "983604fd",
   "metadata": {
    "editable": true,
    "slideshow": {
     "slide_type": "slide"
    },
    "tags": []
   },
   "source": [
    "<h1 style=\"text-align: center;\">Measurement</h1>\n"
   ]
  },
  {
   "cell_type": "markdown",
   "id": "7ea11e36",
   "metadata": {
    "editable": true,
    "slideshow": {
     "slide_type": "fragment"
    },
    "tags": []
   },
   "source": [
    "When I was on the job market, measurement was uncool (in academia)"
   ]
  },
  {
   "cell_type": "markdown",
   "id": "a8c2c6d0-5d60-4749-9d6a-8f15a428db52",
   "metadata": {
    "editable": true,
    "slideshow": {
     "slide_type": "fragment"
    },
    "tags": []
   },
   "source": [
    "  - \"Theory Before Measurement ...\""
   ]
  },
  {
   "cell_type": "markdown",
   "id": "f6ee31ec-c6ab-441c-9317-a7edbffa010c",
   "metadata": {
    "editable": true,
    "slideshow": {
     "slide_type": "fragment"
    },
    "tags": []
   },
   "source": [
    "  - Wilcox (1992): 'researchers spend little effort [to understand the data]'"
   ]
  },
  {
   "cell_type": "markdown",
   "id": "a7850281",
   "metadata": {
    "editable": true,
    "slideshow": {
     "slide_type": "fragment"
    },
    "tags": []
   },
   "source": [
    "But at the Fed"
   ]
  },
  {
   "cell_type": "markdown",
   "id": "e649ad1b-d4d9-453d-b002-054532d9242d",
   "metadata": {
    "slideshow": {
     "slide_type": "fragment"
    },
    "tags": []
   },
   "source": [
    "   - measurement was ALWAYS cool!"
   ]
  },
  {
   "cell_type": "markdown",
   "id": "268ac6f0",
   "metadata": {
    "slideshow": {
     "slide_type": "fragment"
    }
   },
   "source": [
    "If I had to choose between data and theory"
   ]
  },
  {
   "cell_type": "markdown",
   "id": "d14a3118-9a08-4cf0-af70-00c64c1e0275",
   "metadata": {
    "editable": true,
    "slideshow": {
     "slide_type": "fragment"
    },
    "tags": []
   },
   "source": [
    "  - It's data all the way!"
   ]
  },
  {
   "cell_type": "markdown",
   "id": "f197afbd",
   "metadata": {
    "editable": true,
    "slideshow": {
     "slide_type": "slide"
    },
    "tags": []
   },
   "source": [
    "<h2 style=\"text-align: center;\">Measurement = Information Production</h2>"
   ]
  },
  {
   "cell_type": "markdown",
   "id": "980b72d0-c3a8-4a90-b9bc-fe83bd3590ec",
   "metadata": {
    "editable": true,
    "slideshow": {
     "slide_type": "fragment"
    },
    "tags": []
   },
   "source": [
    "Primary:\n",
    "- Survey of Consumer Finances"
   ]
  },
  {
   "cell_type": "markdown",
   "id": "4ef6d1bb-3a24-435e-9eaa-1dd3d35ba070",
   "metadata": {
    "editable": true,
    "slideshow": {
     "slide_type": "fragment"
    },
    "tags": []
   },
   "source": [
    "Secondary:\n",
    "- Industrial Production\n",
    "- Capacity Utilization"
   ]
  },
  {
   "cell_type": "markdown",
   "id": "310f322d-b64f-44cb-a087-0868534f549e",
   "metadata": {
    "slideshow": {
     "slide_type": "fragment"
    },
    "tags": []
   },
   "source": [
    "I would add a Tertiary:\n",
    "- books $\\in \\{$Green, Teal, Beige$\\}$\n",
    "- staff memos ..."
   ]
  },
  {
   "cell_type": "markdown",
   "id": "66e3e774",
   "metadata": {
    "slideshow": {
     "slide_type": "slide"
    },
    "tags": []
   },
   "source": [
    "<h2 style=\"text-align: center;\">What Good Is Information? (Part 1)</h2>"
   ]
  },
  {
   "cell_type": "markdown",
   "id": "fbe64770",
   "metadata": {
    "slideshow": {
     "slide_type": "fragment"
    }
   },
   "source": [
    "<h3 style=\"text-align: left;\">Greenspan Fed Called the 'new economy'</h3>"
   ]
  },
  {
   "cell_type": "markdown",
   "id": "5cacb549-4f4b-4f7a-ac16-4348f024971e",
   "metadata": {
    "editable": true,
    "slideshow": {
     "slide_type": "fragment"
    },
    "tags": []
   },
   "source": [
    "<style>\n",
    "ul {\n",
    "  list-style-type: disc;\n",
    "  padding-left: 10px;\n",
    "}\n",
    "ul ul {\n",
    "  list-style-type: circle;\n",
    "  padding-left: 20px;\n",
    "}\n",
    "</style>\n",
    "\n",
    "<ul>\n",
    "  <li><a href=\"https://github.com/dedwar65/RS100_Discussion/blob/main/references/ERP_1997.pdf\">1997 ERP</a>: 1994-96 pty growth 1.3 pp > NIPA</li>\n",
    "</ul>"
   ]
  },
  {
   "cell_type": "markdown",
   "id": "647767cc-127e-4c22-bad8-e30c15204663",
   "metadata": {
    "editable": true,
    "slideshow": {
     "slide_type": "fragment"
    },
    "tags": []
   },
   "source": [
    "<style>\n",
    "ul {\n",
    "  list-style-type: disc;\n",
    "  padding-left: 10px;\n",
    "}\n",
    "ul ul {\n",
    "  list-style-type: circle;\n",
    "  padding-left: 20px;\n",
    "}\n",
    "</style>\n",
    "\n",
    "<ul>\n",
    "    <ul>\n",
    "      <li>(Steve Braun, R&S alum, made these calcs)</li>\n",
    "    </ul>\n",
    "</ul>"
   ]
  },
  {
   "cell_type": "markdown",
   "id": "0adcb5b7-9d7c-42c3-b7ee-416cba68388c",
   "metadata": {
    "slideshow": {
     "slide_type": "fragment"
    },
    "tags": []
   },
   "source": [
    "<h3 style=\"text-align: left;\">Proposition Drew a LOT of Criticism</h3>"
   ]
  },
  {
   "cell_type": "markdown",
   "id": "74148bfa-adb6-4d62-85ea-c9f938c364a0",
   "metadata": {
    "slideshow": {
     "slide_type": "fragment"
    },
    "tags": []
   },
   "source": [
    "<style>\n",
    "ul {\n",
    "  list-style-type: disc;\n",
    "  padding-left: 10px;\n",
    "}\n",
    "ul ul {\n",
    "  list-style-type: circle;\n",
    "  padding-left: 20px;\n",
    "}\n",
    "</style>\n",
    "\n",
    "<ul>\n",
    "    <li>From mainstream economists (esp. of type Wilcox (1992) criticizes)\n",
    "    </li>\n",
    "</ul>"
   ]
  },
  {
   "cell_type": "markdown",
   "id": "5514bcb3-fc28-498a-ac2f-4323840b03b7",
   "metadata": {
    "slideshow": {
     "slide_type": "fragment"
    },
    "tags": []
   },
   "source": [
    "<style>\n",
    "ul {\n",
    "  list-style-type: disc;\n",
    "  padding-left: 10px;\n",
    "}\n",
    "ul ul {\n",
    "  list-style-type: circle;\n",
    "  padding-left: 20px;\n",
    "}\n",
    "</style>\n",
    "\n",
    "<ul>\n",
    "    <li>From political left and right\n",
    "    </li>\n",
    "</ul>"
   ]
  },
  {
   "cell_type": "markdown",
   "id": "3ed89b17-918f-4e8e-8f0b-ce52f2cf0433",
   "metadata": {
    "slideshow": {
     "slide_type": "fragment"
    },
    "tags": []
   },
   "source": [
    "<h3 style=\"text-align: left;\">What Good Did It Do?</h3>"
   ]
  },
  {
   "cell_type": "markdown",
   "id": "053a073f-26ba-4f4e-8797-b5b8b534cadf",
   "metadata": {
    "slideshow": {
     "slide_type": "fragment"
    },
    "tags": []
   },
   "source": [
    "<style>\n",
    "ul {\n",
    "  list-style-type: disc;\n",
    "  padding-left: 10px;\n",
    "}\n",
    "ul ul {\n",
    "  list-style-type: circle;\n",
    "  padding-left: 20px;\n",
    "}\n",
    "</style>\n",
    "\n",
    "<ul>\n",
    "    <li>Allowed room for monetary ease in East Asian Crisis (1997)\n",
    "    </li>\n",
    "</ul>"
   ]
  },
  {
   "cell_type": "markdown",
   "id": "f96371cc-5ca0-448c-aa40-d1615cbeef70",
   "metadata": {
    "slideshow": {
     "slide_type": "fragment"
    },
    "tags": []
   },
   "source": [
    "<style>\n",
    "ul {\n",
    "  list-style-type: disc;\n",
    "  padding-left: 10px;\n",
    "}\n",
    "ul ul {\n",
    "  list-style-type: circle;\n",
    "  padding-left: 20px;\n",
    "}\n",
    "</style>\n",
    "\n",
    "<ul>\n",
    "    <li>'opportunistic' disinflation\n",
    "</ul>"
   ]
  },
  {
   "cell_type": "markdown",
   "id": "2458be60-619e-4a54-9cc5-e60eb9e97e9f",
   "metadata": {
    "slideshow": {
     "slide_type": "slide"
    },
    "tags": []
   },
   "source": [
    "<h2 style=\"text-align: center;\">\n",
    "<a href=\"https://books.google.com/ngrams/interactive_chart?content=%22new+economy%22&year_start=1995&year_end=2001&corpus=en-2019&smoothing=1\">Google nGram of 'new economy'</a></h2>\n",
    "\n",
    "<center><img src=\"./figures/ngram-new-economy.png\" width=\"800\"></center>\n"
   ]
  },
  {
   "cell_type": "markdown",
   "id": "2065103c",
   "metadata": {
    "slideshow": {
     "slide_type": "slide"
    },
    "tags": []
   },
   "source": [
    "<h2 style=\"text-align: center;\">Was Greenspan Fed Just Lucky?</h2>"
   ]
  },
  {
   "cell_type": "markdown",
   "id": "583ba006-5490-414a-8f42-5c1d1cc40167",
   "metadata": {
    "slideshow": {
     "slide_type": "fragment"
    }
   },
   "source": [
    "- Or has the Fed gotten better over time?\n",
    "  * That's one point of better measurement"
   ]
  },
  {
   "cell_type": "markdown",
   "id": "9044dd48-e92c-44df-82cb-ffa057c16ea1",
   "metadata": {
    "slideshow": {
     "slide_type": "fragment"
    }
   },
   "source": [
    "- Maybe everybody has gotten better over time?\n",
    "  * Measurement improvements make everybody better off"
   ]
  },
  {
   "cell_type": "markdown",
   "id": "27662d0c-f2c6-4cde-b741-ef6d85b0fb91",
   "metadata": {
    "slideshow": {
     "slide_type": "slide"
    },
    "tags": []
   },
   "source": [
    "<h3 style=\"text-align: center;\">Tertiary Data <a href=\"https://www.philadelphiafed.org/surveys-and-data/real-time-data-research/philadelphia-data-set\"> from Philly Fed</a> and <a href=\"https://fred.stlouisfed.org\">FRED</a></h3>\n",
    "\n",
    "<h4 style=\"text-align: center;\">Forecasts from books ∈ {Green, Teal}</h4>\n",
    "<center><img src=\"./figures/abse_reg_1983_GB_cons_only.png\" width=\"800\"></center>\n",
    "    \n"
   ]
  },
  {
   "cell_type": "markdown",
   "id": "6ac85ce6-39b7-4c01-b674-f7278b211aaf",
   "metadata": {
    "slideshow": {
     "slide_type": "slide"
    },
    "tags": []
   },
   "source": [
    "<h3 style=\"text-align: center;\">Tertiary Data <a href=\"https://www.philadelphiafed.org/surveys-and-data/real-time-data-research/philadelphia-data-set\"> from Philly Fed</a> and <a href=\"https://fred.stlouisfed.org\">FRED</a></h3>\n",
    "\n",
    "<h4 style=\"text-align: center;\">Forecasts from SPF</h4>\n",
    "<center><img src=\"./figures/abse_reg_1983_SPF_cons_only.png\" width=\"750\"></center>"
   ]
  },
  {
   "cell_type": "markdown",
   "id": "3d9f8bb1",
   "metadata": {
    "slideshow": {
     "slide_type": "slide"
    }
   },
   "source": [
    "<h3 style=\"text-align: center;\">\n",
    "<a href=\"https://github.com/wdu9/HANK_SAM/blob/main/HANK_SAM_Model_Slides.pdf\">How Much of Business Cycle is Driven by Uncertainty?</a></h3>"
   ]
  },
  {
   "cell_type": "markdown",
   "id": "6f8292c7-5ad1-4115-b08b-7d945b7c1093",
   "metadata": {
    "editable": true,
    "slideshow": {
     "slide_type": "fragment"
    },
    "tags": []
   },
   "source": [
    "<font size=”9”>2.5 bp increase in FF in Will Du's 'HANK and SAM' model.</font>\n",
    "    \n",
    "<center><img src=\"./figures/ev_uncertainty.png\" width=\"500\"></center>"
   ]
  },
  {
   "cell_type": "markdown",
   "id": "9543c9fa-914a-484a-b9bb-e99239c3621a",
   "metadata": {
    "slideshow": {
     "slide_type": "slide"
    },
    "tags": []
   },
   "source": [
    "<h2 style=\"text-align: center;\">What Good Is Information? (Part 2)</h2>\n",
    "\n",
    "- Utility cost of business cycles directly proportional to c\n",
    "\n",
    "  - $\\Delta V \\approx u^{\\prime}(c) \\times \\Delta c $\n",
    "  "
   ]
  },
  {
   "cell_type": "markdown",
   "id": "34e2596c-2c79-4803-bc4c-59b60c35610c",
   "metadata": {
    "editable": true,
    "slideshow": {
     "slide_type": "fragment"
    },
    "tags": []
   },
   "source": [
    "- Better measurement $\\Rightarrow$ less uncertainty $\\Rightarrow$ higher welfare"
   ]
  },
  {
   "cell_type": "markdown",
   "id": "65149b11-a389-4fee-a91c-5e76b33e3f59",
   "metadata": {
    "editable": true,
    "slideshow": {
     "slide_type": "slide"
    },
    "tags": []
   },
   "source": [
    "### <h3 style=\"text-align: left;\"> Future Directions?</h3>\n",
    "\n",
    "- API for Tertiary data of all kinds\n",
    "  - <a href=\"https://alfred.stlouisfed.org\">ALFRED</a> is missing a lot"
   ]
  },
  {
   "cell_type": "markdown",
   "id": "1e6cad53-f574-4c81-a5b8-33d05a04426b",
   "metadata": {
    "editable": true,
    "slideshow": {
     "slide_type": "fragment"
    },
    "tags": []
   },
   "source": [
    "- LLM/NLP for relevant corpuses and search terms"
   ]
  },
  {
   "cell_type": "markdown",
   "id": "05df5f7f-0091-4ff6-9d76-0b33f222bf80",
   "metadata": {
    "editable": true,
    "slideshow": {
     "slide_type": "fragment"
    },
    "tags": []
   },
   "source": [
    "- Better _micro_ data\n",
    "  - linked to macro through RDC"
   ]
  }
 ],
 "metadata": {
  "celltoolbar": "Slideshow",
  "kernelspec": {
   "display_name": "econark",
   "language": "python",
   "name": "econark"
  },
  "language_info": {
   "codemirror_mode": {
    "name": "ipython",
    "version": 3
   },
   "file_extension": ".py",
   "mimetype": "text/x-python",
   "name": "python",
   "nbconvert_exporter": "python",
   "pygments_lexer": "ipython3",
   "version": "3.11.8"
  }
 },
 "nbformat": 4,
 "nbformat_minor": 5
}
