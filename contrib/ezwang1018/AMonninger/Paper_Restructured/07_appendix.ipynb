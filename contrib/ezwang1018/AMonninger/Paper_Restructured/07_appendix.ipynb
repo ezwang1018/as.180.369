{
 "cells": [
  {
   "cell_type": "markdown",
   "id": "1114c872-732e-4b0e-a1cb-5b69e35458d1",
   "metadata": {
    "editable": true,
    "slideshow": {
     "slide_type": ""
    },
    "tags": []
   },
   "source": [
    "# Appendix"
   ]
  },
  {
   "cell_type": "markdown",
   "id": "4459078c-a839-43d2-8b94-d641750d1e17",
   "metadata": {},
   "source": [
    "Below is the Litmap I constructed in the literature review and brainstorming process."
   ]
  },
  {
   "cell_type": "markdown",
   "id": "3a96c0f8-5df0-4ad2-9cd2-e14bc267c6bd",
   "metadata": {},
   "source": [
    "![./litmap_final.png](./litmap_final.png)"
   ]
  }
 ],
 "metadata": {
  "kernelspec": {
   "display_name": "econark",
   "language": "python",
   "name": "econark"
  },
  "language_info": {
   "codemirror_mode": {
    "name": "ipython",
    "version": 3
   },
   "file_extension": ".py",
   "mimetype": "text/x-python",
   "name": "python",
   "nbconvert_exporter": "python",
   "pygments_lexer": "ipython3",
   "version": "3.11.10"
  }
 },
 "nbformat": 4,
 "nbformat_minor": 5
}
