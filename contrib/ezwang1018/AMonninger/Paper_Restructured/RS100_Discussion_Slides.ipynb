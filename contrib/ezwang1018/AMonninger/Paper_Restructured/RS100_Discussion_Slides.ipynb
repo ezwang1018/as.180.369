{
 "cells": [
  {
   "cell_type": "markdown",
   "id": "547110e7",
   "metadata": {
    "editable": true,
    "slideshow": {
     "controls": false,
     "height": "100%",
     "progress": true,
     "scroll": true,
     "slide_type": "slide",
     "width": "100%"
    },
    "tags": []
   },
   "source": [
    "<h1 style=\"text-align: center;\">New Business Formation and Political Affiliation of US President</h1>\n",
    "<h3 style=\"text-align: center;\">by Eric Wang</h3>\n",
    "\n",
    "&nbsp;\n",
    "\n",
    "\n",
    "<h5 style=\"text-align: center;\"><strong>Class of 2025</strong></h5>\n",
    "<h5 style=\"text-align: center;\">Johns Hopkins University </h5>\n",
    "\n",
    "&nbsp;\n",
    "<h4 style=\"text-align: center;\">AS.180.369 </h4>\n",
    "<h4 style=\"text-align: center;\">November 18, 2024</h4>\n",
    "\n"
   ]
  },
  {
   "cell_type": "markdown",
   "id": "983604fd",
   "metadata": {
    "editable": true,
    "slideshow": {
     "slide_type": "slide"
    },
    "tags": []
   },
   "source": [
    "<h1 style=\"text-align: center;\">Introduction</h1>\n"
   ]
  },
  {
   "cell_type": "markdown",
   "id": "a8c2c6d0-5d60-4749-9d6a-8f15a428db52",
   "metadata": {
    "editable": true,
    "slideshow": {
     "slide_type": "fragment"
    },
    "tags": []
   },
   "source": [
    "  - Policies governing taxes, loans, and business registration are often shaped by the incumbent administration’s political ideology\n",
    "  - Understanding how political affiliation affects entrepreneurship can provide useful insights for policymakers seeking to promote business activity and for entrepreneurs evaluating economic conditions"
   ]
  },
  {
   "cell_type": "markdown",
   "id": "f6ee31ec-c6ab-441c-9317-a7edbffa010c",
   "metadata": {
    "editable": true,
    "slideshow": {
     "slide_type": "fragment"
    },
    "tags": []
   },
   "source": [
    "  - This study draws on the Business Dynamics Statistics (BDS) from 1978 to 2021\n",
    "  - Depedent variable is proportion of new businesses among active businesses each year\n",
    "  - Independent variable is 0 for Republican, 1 for Democrat\n",
    "  - Control variables are real GDP growth, unemployment, corporate tax rates, and population growth"
   ]
  },
  {
   "cell_type": "markdown",
   "id": "f197afbd",
   "metadata": {
    "editable": true,
    "slideshow": {
     "slide_type": "slide"
    },
    "tags": []
   },
   "source": [
    "<h2 style=\"text-align: center;\">Literature Review</h2>"
   ]
  },
  {
   "cell_type": "markdown",
   "id": "980b72d0-c3a8-4a90-b9bc-fe83bd3590ec",
   "metadata": {
    "editable": true,
    "slideshow": {
     "slide_type": "fragment"
    },
    "tags": []
   },
   "source": [
    "- The relationship between political orientation and economic outcomes has been extensively studied, with a notable focus on macroeconomic indicators such as GDP growth, stock market performance, and unemployment rates.\n",
    "- Hibbs (1977) finds that left-leaning governments, such as the U.S. Democratic Party and the U.K. Labour Party, prioritize employment over inflation control. In contrast, right-leaning governments, including the Republican Party and the Conservatives, emphasize inflation control even at the expense of higher unemployment.\n",
    "- Blinder and Watson (2016)find that GDP growth is consistently higher under Democratic administrations, though much of this disparity remains unexplained by fiscal or monetary policy.\n",
    "- Santa-Clara and Valkanov (2003)find that stock market returns are higher under Democratic presidents without a corresponding increase in risk.\n",
    "- However, few studies address how presidential affiliation directly affects business formation. "
   ]
  },
  {
   "cell_type": "markdown",
   "id": "66e3e774",
   "metadata": {
    "slideshow": {
     "slide_type": "slide"
    },
    "tags": []
   },
   "source": [
    "<h2 style=\"text-align: center;\">Methodology</h2>"
   ]
  },
  {
   "cell_type": "markdown",
   "id": "d9039ed3-ebff-460a-ab04-fc3c97766283",
   "metadata": {},
   "source": [
    "- OLS estimate\n",
    "- The indepedent variable, political affiliation, is captured by a dummy variable where 1 represents a Democrat and 0 represents Republican.\n",
    "- The dependent variale, new business formaion, is measured by the establishment entry rate, computed by dividing the number of new businesses formed in a given year by the total number of active businesses in that year.\n",
    "- multivariate regression controlling for real GDP growth, population growth, corporate profit after tax adjusted by real GDP, and unemployment rate\n"
   ]
  },
  {
   "cell_type": "markdown",
   "id": "6f4d71c7-9001-4216-af75-bc62f811590f",
   "metadata": {
    "slideshow": {
     "slide_type": "slide"
    },
    "tags": []
   },
   "source": [
    "<h2 style=\"text-align: center;\">Data Analysis</h2>"
   ]
  },
  {
   "cell_type": "markdown",
   "id": "90844fbf-0426-46f1-b9f6-b3dcf9e21bdb",
   "metadata": {},
   "source": [
    "\n",
    "![./data_visual.png](./data_visual.png)"
   ]
  },
  {
   "cell_type": "markdown",
   "id": "1c8623b6-5b47-43f2-9f44-375a43c32847",
   "metadata": {},
   "source": [
    "- Data visualization shows that there is a spike in new business formation immediately following one political party takes over the other party in presidency.\n",
    "- I hypothesize that this is because when a new president takes the office, they tend to announce a whole set of new policies, some of which enterpreneurs find favorable"
   ]
  },
  {
   "cell_type": "markdown",
   "id": "a0a6c97c-6c3c-4cd4-9644-1a36e90a4ef7",
   "metadata": {},
   "source": [
    "\n",
    "\n",
    "![./regressionresults.png](./regressionresults.png)"
   ]
  },
  {
   "cell_type": "markdown",
   "id": "4d2f6444-9af2-4b72-8e0f-802233b83edc",
   "metadata": {},
   "source": [
    "- Controlling for these variables, the president being a Democrat is associated with a 0.43 units decrease in the establishment entry rate, but such coefficient is not statistically significant at 0.1 level."
   ]
  },
  {
   "cell_type": "markdown",
   "id": "2065103c",
   "metadata": {
    "slideshow": {
     "slide_type": "slide"
    },
    "tags": []
   },
   "source": [
    "<h2 style=\"text-align: center;\">Conclusion</h2>"
   ]
  },
  {
   "cell_type": "markdown",
   "id": "583ba006-5490-414a-8f42-5c1d1cc40167",
   "metadata": {
    "slideshow": {
     "slide_type": "fragment"
    }
   },
   "source": [
    "- While the impact of the political affiliation of U.S. presidents on macroeconomic indicators like GDP growth and stock returns has been extensively explored, the influence on new business formation has received less attention. In this paper, I utilized data from the Business Dynamics Statistics to conduct a multivariate regression analysis to investigate this relationship. After controlling for variables such as real GDP growth, population growth, corporate profits after tax adjusted by real GDP, and the unemployment rate, my findings indicate that having a Democratic president correlates with a 0.43 unit decrease in the business establishment entry rate. However, this coefficient is not statistically significant at the 10% level, suggesting that no definitive relationship exists between a president's political affiliation and entrepreneurial activity. Future research can focus less on political affiliation itself and more on how specific policies influence new business formation. As the U.S. approaches a presidential transition in 2025, this topic may continue to generate interest and scholarly debate.\n"
   ]
  }
 ],
 "metadata": {
  "celltoolbar": "Slideshow",
  "kernelspec": {
   "display_name": "econark",
   "language": "python",
   "name": "econark"
  },
  "language_info": {
   "codemirror_mode": {
    "name": "ipython",
    "version": 3
   },
   "file_extension": ".py",
   "mimetype": "text/x-python",
   "name": "python",
   "nbconvert_exporter": "python",
   "pygments_lexer": "ipython3",
   "version": "3.11.10"
  }
 },
 "nbformat": 4,
 "nbformat_minor": 5
}
