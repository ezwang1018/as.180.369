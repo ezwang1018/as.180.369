{
 "cells": [
  {
   "cell_type": "markdown",
   "id": "547110e7",
   "metadata": {
    "editable": true,
    "jp-MarkdownHeadingCollapsed": true,
    "slideshow": {
     "controls": false,
     "height": "100%",
     "progress": true,
     "scroll": true,
     "slide_type": "slide",
     "width": "100%"
    },
    "tags": []
   },
   "source": [
    "<h1 style=\"text-align: center;\">New Business Formation and Political Affiliation of US President</h1>\n",
    "<h3 style=\"text-align: center;\">by Eric Wang</h3>\n",
    "\n",
    "&nbsp;\n",
    "\n",
    "\n",
    "<h5 style=\"text-align: center;\"><strong>Class of 2025</strong></h5>\n",
    "<h5 style=\"text-align: center;\">Johns Hopkins University </h5>\n",
    "\n",
    "&nbsp;\n",
    "<h4 style=\"text-align: center;\">AS.180.369 </h4>\n",
    "<h4 style=\"text-align: center;\">December 2, 2024</h4>\n",
    "\n"
   ]
  },
  {
   "cell_type": "markdown",
   "id": "983604fd",
   "metadata": {
    "editable": true,
    "slideshow": {
     "slide_type": "slide"
    },
    "tags": []
   },
   "source": [
    "<h1 style=\"text-align: center;\">Introduction</h1>"
   ]
  },
  {
   "cell_type": "markdown",
   "id": "a8c2c6d0-5d60-4749-9d6a-8f15a428db52",
   "metadata": {
    "editable": true,
    "slideshow": {
     "slide_type": "fragment"
    },
    "tags": []
   },
   "source": [
    "  - The US has been considered the top 1 country for entrepreneurship by various organizations\n",
    "  - The US has been more and more ideologically polarized under the bipartisan system\n",
    "  - The policy orientation in tax, loan, and business registration is influenced by the incumbent party's ideology\n",
    "  - How does political affiliation impact entrepreneurship?\n",
    "    - Important for both policymakers and entrepreneurs"
   ]
  },
  {
   "cell_type": "markdown",
   "id": "f197afbd",
   "metadata": {
    "editable": true,
    "slideshow": {
     "slide_type": "slide"
    },
    "tags": []
   },
   "source": [
    "<h2 style=\"text-align: center;\">Literature Review</h2>"
   ]
  },
  {
   "cell_type": "markdown",
   "id": "980b72d0-c3a8-4a90-b9bc-fe83bd3590ec",
   "metadata": {
    "editable": true,
    "slideshow": {
     "slide_type": "fragment"
    },
    "tags": []
   },
   "source": [
    "- Most existing research focuses on political affiliation & macroeconomic variables\n",
    "  - e.g. GDP growth, stock market performance, and unemployment rates...\n",
    "- Hibbs (1977): whereas leftists prioritize employment over inflation, rightists do the other way around\n",
    "- Blinder and Watson (2016): GDP growth is consistently higher under Democrat admins\n",
    "   - but much of this disparity remains unexplained by fiscal or monetary policy"
   ]
  },
  {
   "cell_type": "markdown",
   "id": "3f9fc754-4a72-46d6-9b66-088a7aabf5c6",
   "metadata": {
    "editable": true,
    "slideshow": {
     "slide_type": "slide"
    },
    "tags": []
   },
   "source": [
    "<h2 style=\"text-align: center;\">Literature Review</h2>"
   ]
  },
  {
   "cell_type": "markdown",
   "id": "6e8bf66b-aac5-44fb-8b77-4cee71bdbc3f",
   "metadata": {},
   "source": [
    "- Santa-Clara and Valkanov (2003): stock market returns are higher under Democrat presidents\n",
    "- Boumans et al. (2021): Joe Biden’s election raised 2021 growth expectations by 0.98 percentage pts\n",
    "- Nanda (2008): tax reforms increasing the cost of financing deters entrepreneurship\n",
    "  - especially for individuals with limited wealth\n",
    "- However, few studies have addressed presidential affiliation & new business formation. "
   ]
  },
  {
   "cell_type": "markdown",
   "id": "549db85d-6bfd-4e1a-abff-5401296604f6",
   "metadata": {
    "editable": true,
    "slideshow": {
     "slide_type": "slide"
    },
    "tags": []
   },
   "source": [
    "<h1 style=\"text-align: center;\">Methodology</h1>"
   ]
  },
  {
   "cell_type": "markdown",
   "id": "f6ee31ec-c6ab-441c-9317-a7edbffa010c",
   "metadata": {
    "editable": true,
    "slideshow": {
     "slide_type": "fragment"
    },
    "tags": []
   },
   "source": [
    "  - This study draws on the Business Dynamics Statistics (BDS) from 1978 to 2021\n",
    "    - published by the Census Bureau\n",
    "    - records the number of new businesses, continued businesses, and shut-down businesses\n",
    "  - Also incorporates macroeconomic data from FRED "
   ]
  },
  {
   "cell_type": "markdown",
   "id": "66e3e774",
   "metadata": {
    "slideshow": {
     "slide_type": "slide"
    },
    "tags": []
   },
   "source": [
    "<h2 style=\"text-align: center;\">Methodology</h2>"
   ]
  },
  {
   "cell_type": "markdown",
   "id": "d9039ed3-ebff-460a-ab04-fc3c97766283",
   "metadata": {},
   "source": [
    "- OLS estimate\n",
    "- Independent variable: political affiliation of President\n",
    "  - 1 represents Democrat and 0 represents Republican\n",
    "- Dependent variable: new business formation\n",
    "   - establishment entry rate, the number of new businesses formed divided by the total number of active businesses \n",
    "- Controls:\n",
    "  - real GDP growth\n",
    "  - population growth\n",
    "  - corporate profit after tax adjusted by real GDP\n",
    "  - unemployment rate\n",
    "  - Senate majority\n",
    "  - House majority"
   ]
  },
  {
   "cell_type": "markdown",
   "id": "f463ffd7-3794-4efb-874e-d33ee5cb094c",
   "metadata": {
    "slideshow": {
     "slide_type": "slide"
    },
    "tags": []
   },
   "source": [
    "<h2 style=\"text-align: center;\">Data Analysis - Visualization</h2>"
   ]
  },
  {
   "cell_type": "markdown",
   "id": "90844fbf-0426-46f1-b9f6-b3dcf9e21bdb",
   "metadata": {},
   "source": [
    "\n",
    "![./data_visual.png](./data_visual.png)"
   ]
  },
  {
   "cell_type": "markdown",
   "id": "0cce96f5-b56f-408e-88eb-3be31f6be415",
   "metadata": {
    "slideshow": {
     "slide_type": "slide"
    },
    "tags": []
   },
   "source": [
    "<h2 style=\"text-align: center;\">Data Analysis - Visualization</h2>"
   ]
  },
  {
   "cell_type": "markdown",
   "id": "1c8623b6-5b47-43f2-9f44-375a43c32847",
   "metadata": {},
   "source": [
    "- Observation: spikes in new business formation immediately following every party transition\n",
    "- Potential mechanism:\n",
    "  - new policy announcement in favor of new business formation at the beginning\n",
    "  - ineffective policy implementation or breach of promise later on\n",
    "- However, this pattern is not econometrically meaningful as we only observed 5 party transitions"
   ]
  },
  {
   "cell_type": "markdown",
   "id": "7609d697-393e-4343-9974-9cc575ff8f64",
   "metadata": {
    "slideshow": {
     "slide_type": "slide"
    },
    "tags": []
   },
   "source": [
    "<h2 style=\"text-align: center;\">Data Analysis - Regression Setup</h2>"
   ]
  },
  {
   "cell_type": "markdown",
   "id": "5108c6e0-ddd4-43d2-bf10-107f66f4f7fe",
   "metadata": {},
   "source": [
    "\n",
    "![./equation.png](./equation.png)"
   ]
  },
  {
   "cell_type": "markdown",
   "id": "cb0bce27-cc37-43a0-abe7-71307debab12",
   "metadata": {},
   "source": [
    "<h2 style=\"text-align: center;font-size: 24px; font-weight: normal;\">equation (2) addresses endogeneity problems by adding controls</h2>"
   ]
  },
  {
   "cell_type": "markdown",
   "id": "6f4d71c7-9001-4216-af75-bc62f811590f",
   "metadata": {
    "slideshow": {
     "slide_type": "slide"
    },
    "tags": []
   },
   "source": [
    "<h2 style=\"text-align: center;\">Data Analysis - Regression Results</h2>"
   ]
  },
  {
   "cell_type": "markdown",
   "id": "ec53a637-6059-438a-8a6f-ef3e0201f372",
   "metadata": {},
   "source": [
    "estimate of (1)\n",
    "\n",
    "![./regressionok2.png](./regressionok2.png)\n",
    "Adj.R-sqaured:0.049"
   ]
  },
  {
   "cell_type": "markdown",
   "id": "f6e435cf-1754-458e-b139-5d46c75b5ab9",
   "metadata": {
    "slideshow": {
     "slide_type": "slide"
    },
    "tags": []
   },
   "source": [
    "<h2 style=\"text-align: center;\">Data Analysis - Regression Results</h2>"
   ]
  },
  {
   "cell_type": "markdown",
   "id": "0b01a8fa-65ad-4111-a4cd-402bfdf082af",
   "metadata": {},
   "source": [
    "estimate of (2)\n",
    "\n",
    "![./regressionok1.png](./regressionok1.png)\n",
    "Adj.R-sqaured:0.766"
   ]
  },
  {
   "cell_type": "markdown",
   "id": "ebe958f0-ba9e-4253-8ec9-0c863367f29d",
   "metadata": {
    "slideshow": {
     "slide_type": "slide"
    },
    "tags": []
   },
   "source": [
    "<h2 style=\"text-align: center;\">Data Analysis - Regression Results</h2>"
   ]
  },
  {
   "cell_type": "markdown",
   "id": "342bd55f-bbb0-47cf-b966-b373e996171c",
   "metadata": {},
   "source": [
    "- Democrat Presidents are negatively associated with new business formation rate\n",
    "  - but this association is not statistically significant at the 0.05 level\n",
    "- The controls are necessary as they largely improve model fit"
   ]
  },
  {
   "cell_type": "markdown",
   "id": "e4e14f8e-f39e-4055-9226-e34af727baef",
   "metadata": {},
   "source": [
    "- Real GDP growth seems to be positively associated with new business formation rate, at a statistically significant level\n",
    "  - this sounds natural \n",
    "- Corporate Profit seems to be negatively associated with new business formation rate, at a statistically significant level\n",
    "  - this is counterintuitive\n",
    "  - market dominance by large firms, barrier to entry?"
   ]
  },
  {
   "cell_type": "markdown",
   "id": "2065103c",
   "metadata": {
    "slideshow": {
     "slide_type": "slide"
    },
    "tags": []
   },
   "source": [
    "<h2 style=\"text-align: center;\">Limitations</h2>"
   ]
  },
  {
   "cell_type": "markdown",
   "id": "275ecff0-3cf8-4aad-a9b6-307ec52eaa6e",
   "metadata": {},
   "source": [
    "- limited availability of data\n",
    "  - no publicly accessible data on new business formation prior to 1978"
   ]
  },
  {
   "cell_type": "markdown",
   "id": "f69befc4-86c5-4449-ad20-ece2822dab62",
   "metadata": {},
   "source": [
    "- Multicollinearity\n",
    "  - to address this: remove/combine variables, principal component analysis,etc."
   ]
  },
  {
   "cell_type": "markdown",
   "id": "0606cf41-efb3-47f9-a2b8-26ff4fc0bd50",
   "metadata": {
    "slideshow": {
     "slide_type": "slide"
    },
    "tags": []
   },
   "source": [
    "<h2 style=\"text-align: center;\">Limitations</h2>"
   ]
  },
  {
   "cell_type": "markdown",
   "id": "3c89da2e-780d-4940-8edc-5da3025768c0",
   "metadata": {},
   "source": [
    "![./mx_mid.png](./mx_mid.png)"
   ]
  },
  {
   "cell_type": "markdown",
   "id": "82b4b073-1dea-41b9-b21b-9120a5256d52",
   "metadata": {
    "slideshow": {
     "slide_type": "slide"
    },
    "tags": []
   },
   "source": [
    "<h2 style=\"text-align: center;\">Future Research</h2>"
   ]
  },
  {
   "cell_type": "markdown",
   "id": "583ba006-5490-414a-8f42-5c1d1cc40167",
   "metadata": {
    "slideshow": {
     "slide_type": "fragment"
    }
   },
   "source": [
    "- Instead of President's political party, can look into how specific policies influence new business formation\n",
    "- Can look into how entrepreneurs' political orientations influence new business formation\n",
    "- Corporate profit is an interesting variable, can further study how it plays out\n",
    "- It would also be interesting to study how entrepreneural activities in different sectors respond to  set of policies"
   ]
  },
  {
   "cell_type": "markdown",
   "id": "6e95fbcc-3b86-479c-8c8c-2e63606cda75",
   "metadata": {},
   "source": [
    "<h2 style=\"text-align: center;\">Thanks!</h2>"
   ]
  }
 ],
 "metadata": {
  "celltoolbar": "Slideshow",
  "kernelspec": {
   "display_name": "econark",
   "language": "python",
   "name": "econark"
  },
  "language_info": {
   "codemirror_mode": {
    "name": "ipython",
    "version": 3
   },
   "file_extension": ".py",
   "mimetype": "text/x-python",
   "name": "python",
   "nbconvert_exporter": "python",
   "pygments_lexer": "ipython3",
   "version": "3.11.10"
  }
 },
 "nbformat": 4,
 "nbformat_minor": 5
}
